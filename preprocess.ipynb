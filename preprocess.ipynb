{
 "cells": [
  {
   "cell_type": "code",
   "execution_count": 1,
   "metadata": {},
   "outputs": [],
   "source": [
    "from Bio import Entrez\n",
    "from Bio.Seq import Seq"
   ]
  },
  {
   "cell_type": "code",
   "execution_count": null,
   "metadata": {},
   "outputs": [],
   "source": [
    "seqs = []\n",
    "for record in SeqIO.parse(\"../raw.fasta\", \"fasta\"):\n",
    "    if 'X' not in record.seq:\n",
    "        record.id = record.id.split(\"|\")[0][3:]\n",
    "        if record.id not in [\n",
    "            \"APQ41785\",  # no Asn mutation\n",
    "            \"ALL27019\",  # abnormal length\n",
    "            \"AMR68906\", \"AMK79469\"  # long branch attraction\n",
    "        ]:\n",
    "            record.name = \"\"\n",
    "            record.description = \"\"\n",
    "            record.seq = Seq(str(record.seq).replace('J', 'X'))\n",
    "            seqs.append(record)\n",
    "\n",
    "Entrez.email = \"chengyang.ji12@alumni.xjtlu.edu.cn\"\n",
    "\n",
    "# out-group\n",
    "with Entrez.efetch(\n",
    "        db=\"protein\", id=\"ANK57896\", rettype=\"fasta\", retmode=\"text\"\n",
    ") as handle:\n",
    "    record = SeqIO.read(handle, \"fasta\")\n",
    "    record.id = \"ANK57896\"\n",
    "    record.name = \"\"\n",
    "    record.description = \"\"\n",
    "    seqs.append(record)\n",
    "\n",
    "SeqIO.write(seqs, \"../Data/ZIKV/trimmed.fasta\", \"fasta\")"
   ]
  }
 ],
 "metadata": {
  "kernelspec": {
   "display_name": "Python 3",
   "language": "python",
   "name": "python3"
  },
  "language_info": {
   "codemirror_mode": {
    "name": "ipython",
    "version": 3
   },
   "file_extension": ".py",
   "mimetype": "text/x-python",
   "name": "python",
   "nbconvert_exporter": "python",
   "pygments_lexer": "ipython3",
   "version": "3.5.3"
  }
 },
 "nbformat": 4,
 "nbformat_minor": 2
}
